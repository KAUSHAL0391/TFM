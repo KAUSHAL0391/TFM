{
  "cells": [
    {
      "cell_type": "markdown",
      "metadata": {
        "id": "8UPKrEwTOp0k"
      },
      "source": [
        "# Dataset: Stock Prices\n"
      ]
    },
    {
      "cell_type": "markdown",
      "metadata": {
        "id": "Yo8bqbbaOneD"
      },
      "source": [
        "##  Importing the libraries\n",
        "\n"
      ]
    },
    {
      "cell_type": "code",
      "execution_count": 19,
      "metadata": {
        "id": "9-pnIsihHELM"
      },
      "outputs": [],
      "source": [
        "import pandas as pd\n",
        "import matplotlib.pyplot as plt\n",
        "import seaborn as sns"
      ]
    },
    {
      "cell_type": "markdown",
      "metadata": {
        "id": "vmqqkRFGPEz4"
      },
      "source": [
        "## Loading the Dataset"
      ]
    },
    {
      "cell_type": "code",
      "execution_count": 20,
      "metadata": {
        "colab": {
          "base_uri": "https://localhost:8080/",
          "height": 206
        },
        "id": "xws-Y_W2PELY",
        "outputId": "ad032a4d-ecc7-4ee4-e58f-75893d10af63"
      },
      "outputs": [
        {
          "data": {
            "text/html": [
              "<div>\n",
              "<style scoped>\n",
              "    .dataframe tbody tr th:only-of-type {\n",
              "        vertical-align: middle;\n",
              "    }\n",
              "\n",
              "    .dataframe tbody tr th {\n",
              "        vertical-align: top;\n",
              "    }\n",
              "\n",
              "    .dataframe thead th {\n",
              "        text-align: right;\n",
              "    }\n",
              "</style>\n",
              "<table border=\"1\" class=\"dataframe\">\n",
              "  <thead>\n",
              "    <tr style=\"text-align: right;\">\n",
              "      <th></th>\n",
              "      <th>Date</th>\n",
              "      <th>Open</th>\n",
              "      <th>High</th>\n",
              "      <th>Low</th>\n",
              "      <th>Close</th>\n",
              "      <th>Adj Close</th>\n",
              "      <th>Volume</th>\n",
              "    </tr>\n",
              "  </thead>\n",
              "  <tbody>\n",
              "    <tr>\n",
              "      <th>0</th>\n",
              "      <td>2019-09-10</td>\n",
              "      <td>53.465000</td>\n",
              "      <td>54.195000</td>\n",
              "      <td>52.927502</td>\n",
              "      <td>54.174999</td>\n",
              "      <td>53.642761</td>\n",
              "      <td>127111600</td>\n",
              "    </tr>\n",
              "    <tr>\n",
              "      <th>1</th>\n",
              "      <td>2019-09-11</td>\n",
              "      <td>54.517502</td>\n",
              "      <td>55.927502</td>\n",
              "      <td>54.432499</td>\n",
              "      <td>55.897499</td>\n",
              "      <td>55.348343</td>\n",
              "      <td>177158400</td>\n",
              "    </tr>\n",
              "    <tr>\n",
              "      <th>2</th>\n",
              "      <td>2019-09-12</td>\n",
              "      <td>56.200001</td>\n",
              "      <td>56.605000</td>\n",
              "      <td>55.715000</td>\n",
              "      <td>55.772499</td>\n",
              "      <td>55.224567</td>\n",
              "      <td>128906800</td>\n",
              "    </tr>\n",
              "    <tr>\n",
              "      <th>3</th>\n",
              "      <td>2019-09-13</td>\n",
              "      <td>55.000000</td>\n",
              "      <td>55.197498</td>\n",
              "      <td>54.255001</td>\n",
              "      <td>54.687500</td>\n",
              "      <td>54.150230</td>\n",
              "      <td>159053200</td>\n",
              "    </tr>\n",
              "    <tr>\n",
              "      <th>4</th>\n",
              "      <td>2019-09-16</td>\n",
              "      <td>54.432499</td>\n",
              "      <td>55.032501</td>\n",
              "      <td>54.389999</td>\n",
              "      <td>54.974998</td>\n",
              "      <td>54.434902</td>\n",
              "      <td>84632400</td>\n",
              "    </tr>\n",
              "  </tbody>\n",
              "</table>\n",
              "</div>"
            ],
            "text/plain": [
              "         Date       Open       High        Low      Close  Adj Close  \\\n",
              "0  2019-09-10  53.465000  54.195000  52.927502  54.174999  53.642761   \n",
              "1  2019-09-11  54.517502  55.927502  54.432499  55.897499  55.348343   \n",
              "2  2019-09-12  56.200001  56.605000  55.715000  55.772499  55.224567   \n",
              "3  2019-09-13  55.000000  55.197498  54.255001  54.687500  54.150230   \n",
              "4  2019-09-16  54.432499  55.032501  54.389999  54.974998  54.434902   \n",
              "\n",
              "      Volume  \n",
              "0  127111600  \n",
              "1  177158400  \n",
              "2  128906800  \n",
              "3  159053200  \n",
              "4   84632400  "
            ]
          },
          "execution_count": 20,
          "metadata": {},
          "output_type": "execute_result"
        }
      ],
      "source": [
        "data = pd.read_csv(\"AAPL_daily_update.csv\")\n",
        "data.head(5)"
      ]
    },
    {
      "cell_type": "code",
      "execution_count": 21,
      "metadata": {
        "colab": {
          "base_uri": "https://localhost:8080/",
          "height": 0
        },
        "id": "9rUasoQ0RIJx",
        "outputId": "56ab411d-230b-4b10-a3bb-b09f004b5bbb"
      },
      "outputs": [
        {
          "name": "stdout",
          "output_type": "stream",
          "text": [
            "<class 'pandas.core.frame.DataFrame'>\n",
            "RangeIndex: 254 entries, 0 to 253\n",
            "Data columns (total 7 columns):\n",
            " #   Column     Non-Null Count  Dtype  \n",
            "---  ------     --------------  -----  \n",
            " 0   Date       254 non-null    object \n",
            " 1   Open       254 non-null    float64\n",
            " 2   High       254 non-null    float64\n",
            " 3   Low        254 non-null    float64\n",
            " 4   Close      254 non-null    float64\n",
            " 5   Adj Close  254 non-null    float64\n",
            " 6   Volume     254 non-null    int64  \n",
            "dtypes: float64(5), int64(1), object(1)\n",
            "memory usage: 14.0+ KB\n"
          ]
        }
      ],
      "source": [
        "data.info()"
      ]
    },
    {
      "cell_type": "code",
      "execution_count": 22,
      "metadata": {
        "colab": {
          "base_uri": "https://localhost:8080/",
          "height": 423
        },
        "id": "u76oB3wcPKjI",
        "outputId": "933f3986-7dde-432b-8381-92c99b910eda"
      },
      "outputs": [
        {
          "data": {
            "text/html": [
              "<div>\n",
              "<style scoped>\n",
              "    .dataframe tbody tr th:only-of-type {\n",
              "        vertical-align: middle;\n",
              "    }\n",
              "\n",
              "    .dataframe tbody tr th {\n",
              "        vertical-align: top;\n",
              "    }\n",
              "\n",
              "    .dataframe thead th {\n",
              "        text-align: right;\n",
              "    }\n",
              "</style>\n",
              "<table border=\"1\" class=\"dataframe\">\n",
              "  <thead>\n",
              "    <tr style=\"text-align: right;\">\n",
              "      <th></th>\n",
              "      <th>Date</th>\n",
              "      <th>Open</th>\n",
              "    </tr>\n",
              "  </thead>\n",
              "  <tbody>\n",
              "    <tr>\n",
              "      <th>0</th>\n",
              "      <td>2019-09-10</td>\n",
              "      <td>53.465000</td>\n",
              "    </tr>\n",
              "    <tr>\n",
              "      <th>1</th>\n",
              "      <td>2019-09-11</td>\n",
              "      <td>54.517502</td>\n",
              "    </tr>\n",
              "    <tr>\n",
              "      <th>2</th>\n",
              "      <td>2019-09-12</td>\n",
              "      <td>56.200001</td>\n",
              "    </tr>\n",
              "    <tr>\n",
              "      <th>3</th>\n",
              "      <td>2019-09-13</td>\n",
              "      <td>55.000000</td>\n",
              "    </tr>\n",
              "    <tr>\n",
              "      <th>4</th>\n",
              "      <td>2019-09-16</td>\n",
              "      <td>54.432499</td>\n",
              "    </tr>\n",
              "    <tr>\n",
              "      <th>...</th>\n",
              "      <td>...</td>\n",
              "      <td>...</td>\n",
              "    </tr>\n",
              "    <tr>\n",
              "      <th>249</th>\n",
              "      <td>2020-09-03</td>\n",
              "      <td>126.910004</td>\n",
              "    </tr>\n",
              "    <tr>\n",
              "      <th>250</th>\n",
              "      <td>2020-09-04</td>\n",
              "      <td>120.070000</td>\n",
              "    </tr>\n",
              "    <tr>\n",
              "      <th>251</th>\n",
              "      <td>2020-09-08</td>\n",
              "      <td>113.949997</td>\n",
              "    </tr>\n",
              "    <tr>\n",
              "      <th>252</th>\n",
              "      <td>2020-09-09</td>\n",
              "      <td>117.260002</td>\n",
              "    </tr>\n",
              "    <tr>\n",
              "      <th>253</th>\n",
              "      <td>2020-09-10</td>\n",
              "      <td>120.360001</td>\n",
              "    </tr>\n",
              "  </tbody>\n",
              "</table>\n",
              "<p>254 rows × 2 columns</p>\n",
              "</div>"
            ],
            "text/plain": [
              "           Date        Open\n",
              "0    2019-09-10   53.465000\n",
              "1    2019-09-11   54.517502\n",
              "2    2019-09-12   56.200001\n",
              "3    2019-09-13   55.000000\n",
              "4    2019-09-16   54.432499\n",
              "..          ...         ...\n",
              "249  2020-09-03  126.910004\n",
              "250  2020-09-04  120.070000\n",
              "251  2020-09-08  113.949997\n",
              "252  2020-09-09  117.260002\n",
              "253  2020-09-10  120.360001\n",
              "\n",
              "[254 rows x 2 columns]"
            ]
          },
          "execution_count": 22,
          "metadata": {},
          "output_type": "execute_result"
        }
      ],
      "source": [
        "df = data.iloc[:, [0, 1]]\n",
        "df"
      ]
    },
    {
      "cell_type": "code",
      "execution_count": 23,
      "metadata": {
        "id": "meA9UQ9AQMsz"
      },
      "outputs": [],
      "source": [
        "df.set_index('Date', inplace=True)\n"
      ]
    },
    {
      "cell_type": "code",
      "execution_count": 24,
      "metadata": {
        "colab": {
          "base_uri": "https://localhost:8080/",
          "height": 455
        },
        "id": "F8f-p35eQNMK",
        "outputId": "bfe7083b-e18c-4f96-f04b-55d88b460f07"
      },
      "outputs": [
        {
          "data": {
            "text/html": [
              "<div>\n",
              "<style scoped>\n",
              "    .dataframe tbody tr th:only-of-type {\n",
              "        vertical-align: middle;\n",
              "    }\n",
              "\n",
              "    .dataframe tbody tr th {\n",
              "        vertical-align: top;\n",
              "    }\n",
              "\n",
              "    .dataframe thead th {\n",
              "        text-align: right;\n",
              "    }\n",
              "</style>\n",
              "<table border=\"1\" class=\"dataframe\">\n",
              "  <thead>\n",
              "    <tr style=\"text-align: right;\">\n",
              "      <th></th>\n",
              "      <th>Open</th>\n",
              "    </tr>\n",
              "    <tr>\n",
              "      <th>Date</th>\n",
              "      <th></th>\n",
              "    </tr>\n",
              "  </thead>\n",
              "  <tbody>\n",
              "    <tr>\n",
              "      <th>2019-09-10</th>\n",
              "      <td>53.465000</td>\n",
              "    </tr>\n",
              "    <tr>\n",
              "      <th>2019-09-11</th>\n",
              "      <td>54.517502</td>\n",
              "    </tr>\n",
              "    <tr>\n",
              "      <th>2019-09-12</th>\n",
              "      <td>56.200001</td>\n",
              "    </tr>\n",
              "    <tr>\n",
              "      <th>2019-09-13</th>\n",
              "      <td>55.000000</td>\n",
              "    </tr>\n",
              "    <tr>\n",
              "      <th>2019-09-16</th>\n",
              "      <td>54.432499</td>\n",
              "    </tr>\n",
              "    <tr>\n",
              "      <th>...</th>\n",
              "      <td>...</td>\n",
              "    </tr>\n",
              "    <tr>\n",
              "      <th>2020-09-03</th>\n",
              "      <td>126.910004</td>\n",
              "    </tr>\n",
              "    <tr>\n",
              "      <th>2020-09-04</th>\n",
              "      <td>120.070000</td>\n",
              "    </tr>\n",
              "    <tr>\n",
              "      <th>2020-09-08</th>\n",
              "      <td>113.949997</td>\n",
              "    </tr>\n",
              "    <tr>\n",
              "      <th>2020-09-09</th>\n",
              "      <td>117.260002</td>\n",
              "    </tr>\n",
              "    <tr>\n",
              "      <th>2020-09-10</th>\n",
              "      <td>120.360001</td>\n",
              "    </tr>\n",
              "  </tbody>\n",
              "</table>\n",
              "<p>254 rows × 1 columns</p>\n",
              "</div>"
            ],
            "text/plain": [
              "                  Open\n",
              "Date                  \n",
              "2019-09-10   53.465000\n",
              "2019-09-11   54.517502\n",
              "2019-09-12   56.200001\n",
              "2019-09-13   55.000000\n",
              "2019-09-16   54.432499\n",
              "...                ...\n",
              "2020-09-03  126.910004\n",
              "2020-09-04  120.070000\n",
              "2020-09-08  113.949997\n",
              "2020-09-09  117.260002\n",
              "2020-09-10  120.360001\n",
              "\n",
              "[254 rows x 1 columns]"
            ]
          },
          "execution_count": 24,
          "metadata": {},
          "output_type": "execute_result"
        }
      ],
      "source": [
        "df"
      ]
    },
    {
      "cell_type": "code",
      "execution_count": 25,
      "metadata": {
        "colab": {
          "base_uri": "https://localhost:8080/",
          "height": 467
        },
        "id": "dLGM2n4wQ0mr",
        "outputId": "3047b8d1-c63c-46d0-9218-01949780ffa8"
      },
      "outputs": [
        {
          "data": {
            "text/plain": [
              "<Axes: xlabel='Date'>"
            ]
          },
          "execution_count": 25,
          "metadata": {},
          "output_type": "execute_result"
        },
        {
          "data": {
            "image/png": "[encoded data removed]",
            "text/plain": [
              "<Figure size 640x480 with 1 Axes>"
            ]
          },
          "metadata": {},
          "output_type": "display_data"
        }
      ],
      "source": [
        "sns.lineplot(df)"
      ]
    }
  ],
  "metadata": {
    "colab": {
      "provenance": []
    },
    "kernelspec": {
      "display_name": "Python 3",
      "name": "python3"
    },
    "language_info": {
      "codemirror_mode": {
        "name": "ipython",
        "version": 3
      },
      "file_extension": ".py",
      "mimetype": "text/x-python",
      "name": "python",
      "nbconvert_exporter": "python",
      "pygments_lexer": "ipython3",
      "version": "3.11.4"
    }
  },
  "nbformat": 4,
  "nbformat_minor": 0
}
